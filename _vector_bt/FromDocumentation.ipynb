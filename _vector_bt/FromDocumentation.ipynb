{
 "cells": [
  {
   "cell_type": "code",
   "execution_count": 8,
   "metadata": {},
   "outputs": [],
   "source": [
    "import vectorbt as vbt\n",
    "import numpy as np\n",
    "import yfinance as yf\n",
    "import pandas as pd"
   ]
  },
  {
   "cell_type": "code",
   "execution_count": 2,
   "metadata": {},
   "outputs": [],
   "source": [
    "# Fetch daily price of Bitcoin\n",
    "close = yf.Ticker(\"BTC-USD\").history(period=\"max\")['Close']\n",
    "\n",
    "\n",
    "\n",
    "# Compute moving averages for all combinations of fast and slow windows\n",
    "fast_ma, slow_ma = vbt.MA.run_combs(\n",
    "    close, window=np.arange(2, 101), r=2, \n",
    "    short_names=['fast', 'slow']\n",
    ")\n"
   ]
  },
  {
   "cell_type": "code",
   "execution_count": 3,
   "metadata": {},
   "outputs": [
    {
     "name": "stderr",
     "output_type": "stream",
     "text": [
      "C:\\Users\\zachl\\anaconda3\\envs\\alpaca\\lib\\site-packages\\vectorbt\\base\\accessors.py:411: RuntimeWarning: invalid value encountered in greater\n",
      "  result = combine_func(new_obj_arr, new_other_arr, *args, **kwargs)\n",
      "C:\\Users\\zachl\\anaconda3\\envs\\alpaca\\lib\\site-packages\\vectorbt\\base\\accessors.py:411: RuntimeWarning: invalid value encountered in less\n",
      "  result = combine_func(new_obj_arr, new_other_arr, *args, **kwargs)\n"
     ]
    }
   ],
   "source": [
    "# Generate crossover signals for each combination\n",
    "entries = fast_ma.ma_above(slow_ma, crossed=True)\n",
    "exits = fast_ma.ma_below(slow_ma, crossed=True)"
   ]
  },
  {
   "cell_type": "code",
   "execution_count": 4,
   "metadata": {},
   "outputs": [
    {
     "data": {
      "application/vnd.jupyter.widget-view+json": {
       "model_id": "8b99e70e93394d25881e1c786f8d9e11",
       "version_major": 2,
       "version_minor": 0
      },
      "text/plain": [
       "CustomFigureWidget({\n",
       "    'data': [{'colorbar': {'tickformat': '%', 'title': {'text': 'Total return'}},\n",
       "       …"
      ]
     },
     "metadata": {},
     "output_type": "display_data"
    }
   ],
   "source": [
    "# Model performance\n",
    "portfolio = vbt.Portfolio.from_signals(close, entries, exits, fees=0.001, freq='1D')\n",
    "\n",
    "# Get total return, reshape to symmetric matrix, and plot the whole thing\n",
    "portfolio.total_return.vbt.heatmap(\n",
    "    x_level='fast_window', y_level='slow_window', symmetric=True,\n",
    "    trace_kwargs=dict(colorbar=dict(title='Total return', tickformat='%'))\n",
    ")"
   ]
  },
  {
   "cell_type": "code",
   "execution_count": 5,
   "metadata": {},
   "outputs": [
    {
     "data": {
      "text/plain": [
       "Date\n",
       "2014-09-17      457.33\n",
       "2014-09-18      424.44\n",
       "2014-09-19      394.80\n",
       "2014-09-20      408.90\n",
       "2014-09-21      398.82\n",
       "                ...   \n",
       "2020-08-02    11053.61\n",
       "2020-08-03    11246.35\n",
       "2020-08-05    11747.02\n",
       "2020-08-06    11779.77\n",
       "2020-08-07    11605.49\n",
       "Name: Close, Length: 2151, dtype: float64"
      ]
     },
     "execution_count": 5,
     "metadata": {},
     "output_type": "execute_result"
    }
   ],
   "source": [
    "close"
   ]
  },
  {
   "cell_type": "code",
   "execution_count": 7,
   "metadata": {},
   "outputs": [
    {
     "name": "stdout",
     "output_type": "stream",
     "text": [
      "Help on method run_combs:\n",
      "\n",
      "run_combs(close, window, ewm=False, *args, r=2, param_product=False, comb_func=<class 'itertools.combinations'>, speed_up=True, short_names=None, **kwargs) method of builtins.type instance\n",
      "    Create a combination of multiple MA indicators using function `comb_func`. \n",
      "    Run each indicator using input time series `close`, and parameters `window` and `ewm`, to produce output time series `ma`.\n",
      "    \n",
      "    Pass `r` to specify how many indicators to run. Pass `short_names` to specify the\n",
      "    short name for each indicator. Set `speed_up` to `True` to first compute raw outputs \n",
      "    for all parameters, and then use them to build each indicator (faster).\n",
      "    Keyword arguments are passed to `MA.run`.\n",
      "\n"
     ]
    }
   ],
   "source": [
    "help(vbt.MA.run_combs)"
   ]
  },
  {
   "cell_type": "code",
   "execution_count": null,
   "metadata": {},
   "outputs": [],
   "source": []
  }
 ],
 "metadata": {
  "kernelspec": {
   "display_name": "Python 3",
   "language": "python",
   "name": "python3"
  },
  "language_info": {
   "codemirror_mode": {
    "name": "ipython",
    "version": 3
   },
   "file_extension": ".py",
   "mimetype": "text/x-python",
   "name": "python",
   "nbconvert_exporter": "python",
   "pygments_lexer": "ipython3",
   "version": "3.8.3"
  }
 },
 "nbformat": 4,
 "nbformat_minor": 4
}
